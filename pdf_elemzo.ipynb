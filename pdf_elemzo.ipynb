{
  "cells": [
    {
      "cell_type": "markdown",
      "metadata": {
        "id": "view-in-github",
        "colab_type": "text"
      },
      "source": [
        "<a href=\"https://colab.research.google.com/github/sipocz/Alarm/blob/main/pdf_elemzo.ipynb\" target=\"_parent\"><img src=\"https://colab.research.google.com/assets/colab-badge.svg\" alt=\"Open In Colab\"/></a>"
      ]
    },
    {
      "cell_type": "code",
      "execution_count": null,
      "metadata": {
        "id": "fqRfNpxOu0zY"
      },
      "outputs": [],
      "source": []
    },
    {
      "cell_type": "code",
      "execution_count": 1,
      "metadata": {
        "id": "swyLlZwMutOs"
      },
      "outputs": [],
      "source": [
        "def searchfiles( extension='.ttf', folder='C:\\\\') -> list:\n",
        "    import datetime\n",
        "    import os\n",
        "    \"\"\"\n",
        "    ***************************\n",
        "    Listát készít egy adott könyvtárban lévő megadott kiterjesztésű fájlokból rekurzívan.\n",
        "    A listát adja vissza\n",
        "    ***************************\n",
        "\n",
        "    :param extension:       ezeket a fájlokat keresi\n",
        "    :param folder:          ebben a könyvtárban keres\n",
        "\n",
        "    :return: a fájlok listába gyűjtve\n",
        "    \"\"\"\n",
        "    __DEBUG__=False\n",
        "    out_list=[]\n",
        "\n",
        "    for r, d, f in os.walk(folder):\n",
        "        for file in f:\n",
        "            if file.endswith(extension):\n",
        "                # print(r+file)\n",
        "                fname = r + \"/\" + file\n",
        "\n",
        "                # print(fileTimeStamp)\n",
        "                if __DEBUG__:\n",
        "                    print(f\"{fname}\\n\")\n",
        "                out_list.append(fname)\n",
        "    return out_list"
      ]
    },
    {
      "cell_type": "code",
      "execution_count": 2,
      "metadata": {
        "id": "dg1nIKPK32EB"
      },
      "outputs": [],
      "source": [
        "#!pip install frontend"
      ]
    },
    {
      "cell_type": "code",
      "execution_count": 3,
      "metadata": {
        "colab": {
          "base_uri": "https://localhost:8080/"
        },
        "id": "vWTDaJ9g4_rb",
        "outputId": "9f5657b3-dcfc-4062-b527-1974f323ceb0"
      },
      "outputs": [
        {
          "output_type": "stream",
          "name": "stdout",
          "text": [
            "Collecting PyPDF2\n",
            "  Downloading pypdf2-3.0.1-py3-none-any.whl (232 kB)\n",
            "\u001b[?25l     \u001b[90m━━━━━━━━━━━━━━━━━━━━━━━━━━━━━━━━━━━━━━━━\u001b[0m \u001b[32m0.0/232.6 kB\u001b[0m \u001b[31m?\u001b[0m eta \u001b[36m-:--:--\u001b[0m\r\u001b[2K     \u001b[91m━━━━━━━━━━━━━━━━━━━\u001b[0m\u001b[90m╺\u001b[0m\u001b[90m━━━━━━━━━━━━━━━━━━━━\u001b[0m \u001b[32m112.6/232.6 kB\u001b[0m \u001b[31m3.3 MB/s\u001b[0m eta \u001b[36m0:00:01\u001b[0m\r\u001b[2K     \u001b[90m━━━━━━━━━━━━━━━━━━━━━━━━━━━━━━━━━━━━━━━━\u001b[0m \u001b[32m232.6/232.6 kB\u001b[0m \u001b[31m4.3 MB/s\u001b[0m eta \u001b[36m0:00:00\u001b[0m\n",
            "\u001b[?25hInstalling collected packages: PyPDF2\n",
            "Successfully installed PyPDF2-3.0.1\n"
          ]
        }
      ],
      "source": [
        "!pip install PyPDF2"
      ]
    },
    {
      "cell_type": "code",
      "execution_count": 4,
      "metadata": {
        "colab": {
          "base_uri": "https://localhost:8080/"
        },
        "id": "FY-P23us_VjP",
        "outputId": "fb16f2a4-7358-47b9-ff5f-d177c9a2b36c"
      },
      "outputs": [
        {
          "output_type": "stream",
          "name": "stdout",
          "text": [
            "Collecting pdfminer.six\n",
            "  Downloading pdfminer.six-20221105-py3-none-any.whl (5.6 MB)\n",
            "\u001b[2K     \u001b[90m━━━━━━━━━━━━━━━━━━━━━━━━━━━━━━━━━━━━━━━━\u001b[0m \u001b[32m5.6/5.6 MB\u001b[0m \u001b[31m14.2 MB/s\u001b[0m eta \u001b[36m0:00:00\u001b[0m\n",
            "\u001b[?25hRequirement already satisfied: charset-normalizer>=2.0.0 in /usr/local/lib/python3.10/dist-packages (from pdfminer.six) (3.3.2)\n",
            "Requirement already satisfied: cryptography>=36.0.0 in /usr/local/lib/python3.10/dist-packages (from pdfminer.six) (41.0.5)\n",
            "Requirement already satisfied: cffi>=1.12 in /usr/local/lib/python3.10/dist-packages (from cryptography>=36.0.0->pdfminer.six) (1.16.0)\n",
            "Requirement already satisfied: pycparser in /usr/local/lib/python3.10/dist-packages (from cffi>=1.12->cryptography>=36.0.0->pdfminer.six) (2.21)\n",
            "Installing collected packages: pdfminer.six\n",
            "Successfully installed pdfminer.six-20221105\n"
          ]
        }
      ],
      "source": [
        "!pip install pdfminer.six"
      ]
    },
    {
      "cell_type": "code",
      "execution_count": 5,
      "metadata": {
        "id": "YSV84r864tu0"
      },
      "outputs": [],
      "source": [
        "import  PyPDF2"
      ]
    },
    {
      "cell_type": "code",
      "execution_count": 5,
      "metadata": {
        "id": "J73Io8ew79Un"
      },
      "outputs": [],
      "source": []
    },
    {
      "cell_type": "code",
      "execution_count": 6,
      "metadata": {
        "id": "rK8kCNEN_owd"
      },
      "outputs": [],
      "source": [
        "def text_extraction(element):\n",
        "    # Extracting the text from the in-line text element\n",
        "    line_text = element.get_text()\n",
        "\n",
        "    # Find the formats of the text\n",
        "    # Initialize the list with all the formats that appeared in the line of text\n",
        "    line_formats = []\n",
        "    for text_line in element:\n",
        "        if isinstance(text_line, LTTextContainer):\n",
        "            # Iterating through each character in the line of text\n",
        "            for character in text_line:\n",
        "                if isinstance(character, LTChar):\n",
        "                    # Append the font name of the character\n",
        "                    line_formats.append(character.fontname)\n",
        "                    # Append the font size of the character\n",
        "                    line_formats.append(character.size)\n",
        "    # Find the unique font sizes and names in the line\n",
        "    format_per_line = list(set(line_formats))\n",
        "\n",
        "    # Return a tuple with the text in each line along with its format\n",
        "    return (line_text, format_per_line)"
      ]
    },
    {
      "cell_type": "code",
      "execution_count": 7,
      "metadata": {
        "id": "enshe5vWn5rp"
      },
      "outputs": [],
      "source": [
        "__source__=\"google\""
      ]
    },
    {
      "cell_type": "code",
      "execution_count": 7,
      "metadata": {
        "id": "2RfTdUB4AYpu"
      },
      "outputs": [],
      "source": []
    },
    {
      "cell_type": "code",
      "execution_count": 8,
      "metadata": {
        "colab": {
          "base_uri": "https://localhost:8080/"
        },
        "id": "pYuzEnAQnoh4",
        "outputId": "d6e4bdb1-64f6-4c32-f577-564f207506d1"
      },
      "outputs": [
        {
          "output_type": "stream",
          "name": "stdout",
          "text": [
            "Mounted at /content/gdrive\n"
          ]
        }
      ],
      "source": [
        "if __source__==\"google\":\n",
        "    from google.colab import drive\n",
        "    drive.mount('/content/gdrive', force_remount=True)\n",
        "    fnamedir=\"/content/gdrive/MyDrive/PDF_elemzo\"\n",
        "\n",
        "else:\n",
        "    fname=\"./train.csv\"\n",
        "    fname_test=\"./test.csv\"\n",
        "    fname_result=\"./result.csv\""
      ]
    },
    {
      "cell_type": "code",
      "execution_count": 9,
      "metadata": {
        "id": "4aXzj1Y3xHbr"
      },
      "outputs": [],
      "source": [
        "pdf_files=searchfiles(\".pdf\",fnamedir)"
      ]
    },
    {
      "cell_type": "code",
      "execution_count": 10,
      "metadata": {
        "colab": {
          "base_uri": "https://localhost:8080/"
        },
        "id": "Q8s1ukPNzPzM",
        "outputId": "7498c0db-57a6-4e74-b5ca-9b783998fd2e"
      },
      "outputs": [
        {
          "output_type": "execute_result",
          "data": {
            "text/plain": [
              "3963"
            ]
          },
          "metadata": {},
          "execution_count": 10
        }
      ],
      "source": [
        "len(pdf_files)"
      ]
    },
    {
      "cell_type": "code",
      "source": [],
      "metadata": {
        "id": "5mA_uUscS6A0"
      },
      "execution_count": 10,
      "outputs": []
    },
    {
      "cell_type": "code",
      "source": [
        "pdf_files[0]"
      ],
      "metadata": {
        "colab": {
          "base_uri": "https://localhost:8080/",
          "height": 35
        },
        "id": "9tc-cFW8TFtW",
        "outputId": "ac8dbd21-cfa2-467a-e0b2-1df3e35dd6b7"
      },
      "execution_count": 11,
      "outputs": [
        {
          "output_type": "execute_result",
          "data": {
            "text/plain": [
              "'/content/gdrive/MyDrive/PDF_elemzo/NOR_ALL_EVENT_2022122622.pdf'"
            ],
            "application/vnd.google.colaboratory.intrinsic+json": {
              "type": "string"
            }
          },
          "metadata": {},
          "execution_count": 11
        }
      ]
    },
    {
      "cell_type": "code",
      "execution_count": 12,
      "metadata": {
        "id": "BbtiAkvrpMXj"
      },
      "outputs": [],
      "source": [
        "fname=fnamedir+\"/\"+\"NOR_ALL_EVENT_2020010206.pdf\""
      ]
    },
    {
      "cell_type": "code",
      "execution_count": 13,
      "metadata": {
        "id": "TuX0yi0Pppwb"
      },
      "outputs": [],
      "source": [
        "pdf_path = fname\n",
        "\n",
        "# create a PDF file object\n",
        "pdfFileObj = open(pdf_path, 'rb')\n",
        "# create a PDF reader object\n",
        "pdf_readed = PyPDF2.PdfReader(pdfFileObj)\n",
        "\n",
        "# Create the dictionary to extract text from each image\n",
        "text_per_page = {}\n",
        "# We extract the pages from the PDF"
      ]
    },
    {
      "cell_type": "code",
      "execution_count": 14,
      "metadata": {
        "id": "RWnJhYurBFpo"
      },
      "outputs": [],
      "source": [
        "page1=pdf_readed.pages[0]"
      ]
    },
    {
      "cell_type": "code",
      "execution_count": null,
      "metadata": {
        "id": "i31yON7iC0LM"
      },
      "outputs": [],
      "source": [
        "page1.get_object()"
      ]
    },
    {
      "cell_type": "code",
      "execution_count": 16,
      "metadata": {
        "id": "YTV5Ksq3Din4"
      },
      "outputs": [],
      "source": [
        "from pdfminer.high_level import extract_pages, extract_text"
      ]
    },
    {
      "cell_type": "code",
      "execution_count": null,
      "metadata": {
        "id": "SpiV6w7HBctY"
      },
      "outputs": [],
      "source": []
    },
    {
      "cell_type": "code",
      "execution_count": 18,
      "metadata": {
        "id": "4HnQ5Txj9-be"
      },
      "outputs": [],
      "source": [
        "p2=extract_pages(fname,page_numbers=[2])"
      ]
    },
    {
      "cell_type": "code",
      "execution_count": 19,
      "metadata": {
        "id": "A1pwzser-DnC",
        "colab": {
          "base_uri": "https://localhost:8080/"
        },
        "outputId": "d9ea9c11-635d-4500-d479-08543a756242"
      },
      "outputs": [
        {
          "output_type": "stream",
          "name": "stdout",
          "text": [
            "0\n"
          ]
        }
      ],
      "source": [
        "for pagenumber, page in enumerate(p2):\n",
        "    print(pagenumber)"
      ]
    },
    {
      "cell_type": "code",
      "execution_count": 19,
      "metadata": {
        "id": "PiKoDVKw-Fbg"
      },
      "outputs": [],
      "source": []
    },
    {
      "cell_type": "code",
      "execution_count": 20,
      "metadata": {
        "id": "sFtQ3D_XsXJ-"
      },
      "outputs": [],
      "source": [
        "def read_a_pdf(fname):\n",
        "    text=\"\"\n",
        "    doc = extract_text(fname)\n",
        "\n",
        "    return(doc)\n",
        "\n"
      ]
    },
    {
      "cell_type": "code",
      "execution_count": 20,
      "metadata": {
        "id": "PkV7b0MZsi5Z"
      },
      "outputs": [],
      "source": []
    },
    {
      "cell_type": "code",
      "execution_count": 20,
      "metadata": {
        "id": "q9VvqMhBt3og"
      },
      "outputs": [],
      "source": []
    },
    {
      "cell_type": "code",
      "execution_count": 21,
      "metadata": {
        "id": "ucOvKKGQ0c-y"
      },
      "outputs": [],
      "source": [
        "def find_tag(fname_list:list,tag:str):\n",
        "    fname_list.sort(reverse=True)\n",
        "    for fname in fname_list:\n",
        "        text=read_a_pdf(fname)\n",
        "        if text.find(tag)!=-1:\n",
        "            print(fname)\n",
        "        else:\n",
        "            print(\"nincs:\", fname)\n",
        "\n",
        "\n"
      ]
    },
    {
      "cell_type": "code",
      "execution_count": 21,
      "metadata": {
        "id": "F_eC4f7W6hAP"
      },
      "outputs": [],
      "source": []
    },
    {
      "cell_type": "code",
      "execution_count": null,
      "metadata": {
        "colab": {
          "base_uri": "https://localhost:8080/"
        },
        "id": "ZRAoiKqx1x_J",
        "outputId": "b633f337-8e36-46ad-be29-64507c693285"
      },
      "outputs": [
        {
          "output_type": "stream",
          "name": "stdout",
          "text": [
            "nincs: /content/gdrive/MyDrive/PDF_elemzo/NOR_ALL_EVENT_2023112806.pdf\n",
            "nincs: /content/gdrive/MyDrive/PDF_elemzo/NOR_ALL_EVENT_2023112722.pdf\n",
            "nincs: /content/gdrive/MyDrive/PDF_elemzo/NOR_ALL_EVENT_2023112714.pdf\n"
          ]
        }
      ],
      "source": [
        "find_tag(pdf_files,\"KSVG2970\")"
      ]
    }
  ],
  "metadata": {
    "colab": {
      "provenance": [],
      "authorship_tag": "ABX9TyP08fDIZw+wsyjMwA06I62S",
      "include_colab_link": true
    },
    "kernelspec": {
      "display_name": "Python 3",
      "name": "python3"
    },
    "language_info": {
      "name": "python"
    }
  },
  "nbformat": 4,
  "nbformat_minor": 0
}