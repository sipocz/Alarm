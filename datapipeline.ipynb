{
  "nbformat": 4,
  "nbformat_minor": 0,
  "metadata": {
    "colab": {
      "name": "datapipeline.ipynb",
      "provenance": [],
      "authorship_tag": "ABX9TyMHnimeldmGuy5Csr+Hf7WD",
      "include_colab_link": true
    },
    "kernelspec": {
      "name": "python3",
      "display_name": "Python 3"
    },
    "language_info": {
      "name": "python"
    }
  },
  "cells": [
    {
      "cell_type": "markdown",
      "metadata": {
        "id": "view-in-github",
        "colab_type": "text"
      },
      "source": [
        "<a href=\"https://colab.research.google.com/github/sipocz/Alarm/blob/main/datapipeline.ipynb\" target=\"_parent\"><img src=\"https://colab.research.google.com/assets/colab-badge.svg\" alt=\"Open In Colab\"/></a>"
      ]
    },
    {
      "cell_type": "code",
      "metadata": {
        "id": "FbWyHMJz4d7D"
      },
      "source": [
        "import pandas as pd"
      ],
      "execution_count": 1,
      "outputs": []
    },
    {
      "cell_type": "code",
      "metadata": {
        "id": "uyVSs2F54A0B"
      },
      "source": [
        "url=\"https://raw.githubusercontent.com/sipocz/Alarm/main/Result/EventNumber_SP_20210611.csv\""
      ],
      "execution_count": 2,
      "outputs": []
    },
    {
      "cell_type": "code",
      "metadata": {
        "colab": {
          "base_uri": "https://localhost:8080/"
        },
        "id": "5aPVlNkx4DsG",
        "outputId": "fad7082e-c3f4-4ec2-cade-a7445f21a91a"
      },
      "source": [
        "!wget $url"
      ],
      "execution_count": 3,
      "outputs": [
        {
          "output_type": "stream",
          "text": [
            "--2021-06-15 10:32:23--  https://raw.githubusercontent.com/sipocz/Alarm/main/Result/EventNumber_SP_20210611.csv\n",
            "Resolving raw.githubusercontent.com (raw.githubusercontent.com)... 185.199.108.133, 185.199.109.133, 185.199.110.133, ...\n",
            "Connecting to raw.githubusercontent.com (raw.githubusercontent.com)|185.199.108.133|:443... connected.\n",
            "HTTP request sent, awaiting response... 200 OK\n",
            "Length: 3685 (3.6K) [text/plain]\n",
            "Saving to: ‘EventNumber_SP_20210611.csv’\n",
            "\n",
            "\r          EventNumb   0%[                    ]       0  --.-KB/s               \rEventNumber_SP_2021 100%[===================>]   3.60K  --.-KB/s    in 0s      \n",
            "\n",
            "2021-06-15 10:32:23 (26.6 MB/s) - ‘EventNumber_SP_20210611.csv’ saved [3685/3685]\n",
            "\n"
          ],
          "name": "stdout"
        }
      ]
    },
    {
      "cell_type": "code",
      "metadata": {
        "id": "2LQ2q-Hv4QTC"
      },
      "source": [
        "fname=url.split(\"/\")[-1]"
      ],
      "execution_count": 4,
      "outputs": []
    },
    {
      "cell_type": "code",
      "metadata": {
        "id": "j12Zzl824Yfv",
        "colab": {
          "base_uri": "https://localhost:8080/",
          "height": 35
        },
        "outputId": "883949ee-33eb-4125-da44-f1177086addf"
      },
      "source": [
        "fname"
      ],
      "execution_count": 5,
      "outputs": [
        {
          "output_type": "execute_result",
          "data": {
            "application/vnd.google.colaboratory.intrinsic+json": {
              "type": "string"
            },
            "text/plain": [
              "'EventNumber_SP_20210611.csv'"
            ]
          },
          "metadata": {
            "tags": []
          },
          "execution_count": 5
        }
      ]
    },
    {
      "cell_type": "code",
      "metadata": {
        "colab": {
          "base_uri": "https://localhost:8080/",
          "height": 204
        },
        "id": "qdxfE1aC4kXk",
        "outputId": "e84d67b2-4584-42da-914c-45e0e2e73b3f"
      },
      "source": [
        "df=pd.read_csv(fname)\n",
        "df.columns=['date', 'a1', 'a2', 'a3', 'a4', 'a5', 'a6', 'a7', 'a8', 'a9', 'a10', 'a11','a12', 'a13', 'a14', 'a15', 'a16', 'a17', 'a18', 'a19', 'a20', 'a21', 'a22', 'a23','a24', 'a25', 'a26', 'a27', 'a28', 'a29', 'a30']\n",
        "df.head()"
      ],
      "execution_count": 25,
      "outputs": [
        {
          "output_type": "execute_result",
          "data": {
            "text/html": [
              "<div>\n",
              "<style scoped>\n",
              "    .dataframe tbody tr th:only-of-type {\n",
              "        vertical-align: middle;\n",
              "    }\n",
              "\n",
              "    .dataframe tbody tr th {\n",
              "        vertical-align: top;\n",
              "    }\n",
              "\n",
              "    .dataframe thead th {\n",
              "        text-align: right;\n",
              "    }\n",
              "</style>\n",
              "<table border=\"1\" class=\"dataframe\">\n",
              "  <thead>\n",
              "    <tr style=\"text-align: right;\">\n",
              "      <th></th>\n",
              "      <th>date</th>\n",
              "      <th>a1</th>\n",
              "      <th>a2</th>\n",
              "      <th>a3</th>\n",
              "      <th>a4</th>\n",
              "      <th>a5</th>\n",
              "      <th>a6</th>\n",
              "      <th>a7</th>\n",
              "      <th>a8</th>\n",
              "      <th>a9</th>\n",
              "      <th>a10</th>\n",
              "      <th>a11</th>\n",
              "      <th>a12</th>\n",
              "      <th>a13</th>\n",
              "      <th>a14</th>\n",
              "      <th>a15</th>\n",
              "      <th>a16</th>\n",
              "      <th>a17</th>\n",
              "      <th>a18</th>\n",
              "      <th>a19</th>\n",
              "      <th>a20</th>\n",
              "      <th>a21</th>\n",
              "      <th>a22</th>\n",
              "      <th>a23</th>\n",
              "      <th>a24</th>\n",
              "      <th>a25</th>\n",
              "      <th>a26</th>\n",
              "      <th>a27</th>\n",
              "      <th>a28</th>\n",
              "      <th>a29</th>\n",
              "      <th>a30</th>\n",
              "    </tr>\n",
              "  </thead>\n",
              "  <tbody>\n",
              "    <tr>\n",
              "      <th>0</th>\n",
              "      <td>2021060106</td>\n",
              "      <td>2313</td>\n",
              "      <td>1562</td>\n",
              "      <td>1519</td>\n",
              "      <td>1514</td>\n",
              "      <td>1455</td>\n",
              "      <td>522</td>\n",
              "      <td>501</td>\n",
              "      <td>487</td>\n",
              "      <td>475</td>\n",
              "      <td>473</td>\n",
              "      <td>435</td>\n",
              "      <td>302</td>\n",
              "      <td>250</td>\n",
              "      <td>192</td>\n",
              "      <td>176</td>\n",
              "      <td>144</td>\n",
              "      <td>111</td>\n",
              "      <td>103</td>\n",
              "      <td>96</td>\n",
              "      <td>96</td>\n",
              "      <td>70</td>\n",
              "      <td>33</td>\n",
              "      <td>30</td>\n",
              "      <td>29</td>\n",
              "      <td>28</td>\n",
              "      <td>26</td>\n",
              "      <td>26</td>\n",
              "      <td>26</td>\n",
              "      <td>26</td>\n",
              "      <td>24</td>\n",
              "    </tr>\n",
              "    <tr>\n",
              "      <th>1</th>\n",
              "      <td>2021060114</td>\n",
              "      <td>1435</td>\n",
              "      <td>613</td>\n",
              "      <td>389</td>\n",
              "      <td>275</td>\n",
              "      <td>257</td>\n",
              "      <td>183</td>\n",
              "      <td>171</td>\n",
              "      <td>166</td>\n",
              "      <td>164</td>\n",
              "      <td>162</td>\n",
              "      <td>159</td>\n",
              "      <td>122</td>\n",
              "      <td>108</td>\n",
              "      <td>108</td>\n",
              "      <td>104</td>\n",
              "      <td>96</td>\n",
              "      <td>96</td>\n",
              "      <td>78</td>\n",
              "      <td>78</td>\n",
              "      <td>77</td>\n",
              "      <td>77</td>\n",
              "      <td>72</td>\n",
              "      <td>72</td>\n",
              "      <td>68</td>\n",
              "      <td>66</td>\n",
              "      <td>66</td>\n",
              "      <td>65</td>\n",
              "      <td>64</td>\n",
              "      <td>64</td>\n",
              "      <td>64</td>\n",
              "    </tr>\n",
              "    <tr>\n",
              "      <th>2</th>\n",
              "      <td>2021060122</td>\n",
              "      <td>1440</td>\n",
              "      <td>451</td>\n",
              "      <td>275</td>\n",
              "      <td>200</td>\n",
              "      <td>162</td>\n",
              "      <td>144</td>\n",
              "      <td>102</td>\n",
              "      <td>102</td>\n",
              "      <td>96</td>\n",
              "      <td>78</td>\n",
              "      <td>74</td>\n",
              "      <td>71</td>\n",
              "      <td>67</td>\n",
              "      <td>66</td>\n",
              "      <td>65</td>\n",
              "      <td>64</td>\n",
              "      <td>54</td>\n",
              "      <td>50</td>\n",
              "      <td>48</td>\n",
              "      <td>48</td>\n",
              "      <td>48</td>\n",
              "      <td>48</td>\n",
              "      <td>48</td>\n",
              "      <td>48</td>\n",
              "      <td>48</td>\n",
              "      <td>48</td>\n",
              "      <td>46</td>\n",
              "      <td>45</td>\n",
              "      <td>43</td>\n",
              "      <td>43</td>\n",
              "    </tr>\n",
              "    <tr>\n",
              "      <th>3</th>\n",
              "      <td>2021060206</td>\n",
              "      <td>1440</td>\n",
              "      <td>1001</td>\n",
              "      <td>771</td>\n",
              "      <td>326</td>\n",
              "      <td>271</td>\n",
              "      <td>251</td>\n",
              "      <td>188</td>\n",
              "      <td>180</td>\n",
              "      <td>156</td>\n",
              "      <td>144</td>\n",
              "      <td>116</td>\n",
              "      <td>114</td>\n",
              "      <td>108</td>\n",
              "      <td>108</td>\n",
              "      <td>108</td>\n",
              "      <td>108</td>\n",
              "      <td>80</td>\n",
              "      <td>76</td>\n",
              "      <td>76</td>\n",
              "      <td>73</td>\n",
              "      <td>73</td>\n",
              "      <td>70</td>\n",
              "      <td>70</td>\n",
              "      <td>66</td>\n",
              "      <td>66</td>\n",
              "      <td>64</td>\n",
              "      <td>63</td>\n",
              "      <td>60</td>\n",
              "      <td>60</td>\n",
              "      <td>60</td>\n",
              "    </tr>\n",
              "    <tr>\n",
              "      <th>4</th>\n",
              "      <td>2021060214</td>\n",
              "      <td>1437</td>\n",
              "      <td>810</td>\n",
              "      <td>449</td>\n",
              "      <td>318</td>\n",
              "      <td>292</td>\n",
              "      <td>245</td>\n",
              "      <td>237</td>\n",
              "      <td>237</td>\n",
              "      <td>179</td>\n",
              "      <td>165</td>\n",
              "      <td>144</td>\n",
              "      <td>137</td>\n",
              "      <td>126</td>\n",
              "      <td>123</td>\n",
              "      <td>121</td>\n",
              "      <td>118</td>\n",
              "      <td>114</td>\n",
              "      <td>114</td>\n",
              "      <td>110</td>\n",
              "      <td>106</td>\n",
              "      <td>92</td>\n",
              "      <td>88</td>\n",
              "      <td>88</td>\n",
              "      <td>86</td>\n",
              "      <td>82</td>\n",
              "      <td>80</td>\n",
              "      <td>80</td>\n",
              "      <td>78</td>\n",
              "      <td>72</td>\n",
              "      <td>72</td>\n",
              "    </tr>\n",
              "  </tbody>\n",
              "</table>\n",
              "</div>"
            ],
            "text/plain": [
              "         date    a1    a2    a3    a4    a5  ...  a25  a26  a27  a28  a29  a30\n",
              "0  2021060106  2313  1562  1519  1514  1455  ...   28   26   26   26   26   24\n",
              "1  2021060114  1435   613   389   275   257  ...   66   66   65   64   64   64\n",
              "2  2021060122  1440   451   275   200   162  ...   48   48   46   45   43   43\n",
              "3  2021060206  1440  1001   771   326   271  ...   66   64   63   60   60   60\n",
              "4  2021060214  1437   810   449   318   292  ...   82   80   80   78   72   72\n",
              "\n",
              "[5 rows x 31 columns]"
            ]
          },
          "metadata": {
            "tags": []
          },
          "execution_count": 25
        }
      ]
    },
    {
      "cell_type": "code",
      "metadata": {
        "id": "rWW-xTBl5a2b"
      },
      "source": [
        "df_2=df.loc[:,\"a1\":]"
      ],
      "execution_count": 7,
      "outputs": []
    },
    {
      "cell_type": "code",
      "metadata": {
        "colab": {
          "base_uri": "https://localhost:8080/",
          "height": 265
        },
        "id": "fg-TKgcl48Cq",
        "outputId": "57dbb21e-59b3-41f0-f12f-fabec7c9e2c5"
      },
      "source": [
        "for i in range(30):\n",
        "    df_2.loc[i,:].plot()"
      ],
      "execution_count": 8,
      "outputs": [
        {
          "output_type": "display_data",
          "data": {
            "image/png": "[encoded data removed]",
            "text/plain": [
              "<Figure size 432x288 with 1 Axes>"
            ]
          },
          "metadata": {
            "tags": [],
            "needs_background": "light"
          }
        }
      ]
    },
    {
      "cell_type": "code",
      "metadata": {
        "colab": {
          "base_uri": "https://localhost:8080/"
        },
        "id": "Bo05rfshZ7jl",
        "outputId": "1c57bf59-4717-4232-b674-f773e652cf72"
      },
      "source": [
        "import numpy as np\n",
        "from sklearn.decomposition import PCA\n",
        "X = df_2\n",
        "pca = PCA(n_components=3)\n",
        "df_pca=pca.fit_transform(X)\n",
        "\n",
        "print(pca.explained_variance_ratio_)\n",
        "\n",
        "print(pca.singular_values_)"
      ],
      "execution_count": 17,
      "outputs": [
        {
          "output_type": "stream",
          "text": [
            "[0.81293864 0.10324766 0.03771697]\n",
            "[2815.01751881 1003.21111193  606.34613659]\n"
          ],
          "name": "stdout"
        }
      ]
    },
    {
      "cell_type": "code",
      "metadata": {
        "colab": {
          "base_uri": "https://localhost:8080/"
        },
        "id": "gfoU8_BDcTZY",
        "outputId": "123837e6-7409-4bc6-92a4-fb7bc4e13828"
      },
      "source": [
        "df_pca"
      ],
      "execution_count": 18,
      "outputs": [
        {
          "output_type": "execute_result",
          "data": {
            "text/plain": [
              "array([[2303.9161617 , -308.20317498,  237.209568  ],\n",
              "       [-238.57923923,  -52.95933906,  -13.63736862],\n",
              "       [-506.86859598, -127.86097804,   93.72095884],\n",
              "       [ 141.6933737 ,  260.22957188,  -17.85527996],\n",
              "       [ -51.66772949,   96.16822191,  -66.47354129],\n",
              "       [-260.84637671,  -57.94511285,   28.18191825],\n",
              "       [ 359.28728124,   20.12058137, -128.83395947],\n",
              "       [  34.04912584,  308.51673922,  -14.21188798],\n",
              "       [-433.12929596,  -47.5222209 ,   60.87975747],\n",
              "       [  55.08002116,    3.17665515,  -61.43444991],\n",
              "       [  38.08333328,  132.72078839,   -3.39787139],\n",
              "       [-234.45332697, -191.54267882,  -68.6263261 ],\n",
              "       [-159.02682022, -119.68085546,   -8.33064765],\n",
              "       [-606.74029004, -212.95880023,   64.60060867],\n",
              "       [-718.8180501 , -271.33570847,  133.35346267],\n",
              "       [-246.59217849, -162.03994962,   67.16568642],\n",
              "       [-229.35649452,  -76.95061917,   64.81849695],\n",
              "       [-442.90684388,   36.70264581,  161.31112474],\n",
              "       [-162.33640788,  -80.75333904,   74.49937319],\n",
              "       [ 370.65095268, -108.74777656,  -78.71915025],\n",
              "       [ 330.31005412,   17.62534457, -226.97043927],\n",
              "       [-109.70615333,  -83.36029211,  -32.92478189],\n",
              "       [-109.12638588,  141.43709856,   21.21453952],\n",
              "       [ 144.76693243,   -3.74501708, -176.15526308],\n",
              "       [  52.94477696, -166.17895518, -123.07235435],\n",
              "       [-142.43440759,  144.82040769,   13.57110392],\n",
              "       [  95.44728056, -122.13527987, -116.63977062],\n",
              "       [ 108.02061827,  -16.08902119, -112.74281384],\n",
              "       [ 468.59788313,  249.3845688 , -116.49021278],\n",
              "       [ -30.6363265 ,  367.03932347,  162.36390843],\n",
              "       [ 180.37712768,  432.0671718 ,  183.62561139]])"
            ]
          },
          "metadata": {
            "tags": []
          },
          "execution_count": 18
        }
      ]
    },
    {
      "cell_type": "code",
      "metadata": {
        "id": "k2umVvImcsfr"
      },
      "source": [
        "x_data=df_pca[:,0]\n",
        "y_data=df_pca[:,1]\n"
      ],
      "execution_count": 22,
      "outputs": []
    },
    {
      "cell_type": "code",
      "metadata": {
        "colab": {
          "base_uri": "https://localhost:8080/",
          "height": 265
        },
        "id": "Z3Pfg4epjOIy",
        "outputId": "e5dcbc7c-47d9-497f-f287-136975f72d2a"
      },
      "source": [
        "import matplotlib.pyplot as plt\n",
        "x = x_data\n",
        "y = y_data\n",
        "fig = plt.figure()\n",
        "ax = fig.add_subplot(111)\n",
        "ax.scatter(x, y, color='blue')\n",
        "plt.show()"
      ],
      "execution_count": 24,
      "outputs": [
        {
          "output_type": "display_data",
          "data": {
            "image/png": "[encoded data removed]",
            "text/plain": [
              "<Figure size 432x288 with 1 Axes>"
            ]
          },
          "metadata": {
            "tags": [],
            "needs_background": "light"
          }
        }
      ]
    },
    {
      "cell_type": "code",
      "metadata": {
        "id": "PmwbWlPFSCDG"
      },
      "source": [
        ""
      ],
      "execution_count": null,
      "outputs": []
    }
  ]
}