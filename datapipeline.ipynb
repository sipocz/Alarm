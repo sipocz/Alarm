{
  "nbformat": 4,
  "nbformat_minor": 0,
  "metadata": {
    "colab": {
      "name": "datapipeline.ipynb",
      "provenance": [],
      "authorship_tag": "ABX9TyOD9gYMZ+9Ly0wcHAen103P",
      "include_colab_link": true
    },
    "kernelspec": {
      "name": "python3",
      "display_name": "Python 3"
    },
    "language_info": {
      "name": "python"
    }
  },
  "cells": [
    {
      "cell_type": "markdown",
      "metadata": {
        "id": "view-in-github",
        "colab_type": "text"
      },
      "source": [
        "<a href=\"https://colab.research.google.com/github/sipocz/Alarm/blob/main/datapipeline.ipynb\" target=\"_parent\"><img src=\"https://colab.research.google.com/assets/colab-badge.svg\" alt=\"Open In Colab\"/></a>"
      ]
    },
    {
      "cell_type": "code",
      "metadata": {
        "id": "FbWyHMJz4d7D"
      },
      "source": [
        "import pandas as pd"
      ],
      "execution_count": 6,
      "outputs": []
    },
    {
      "cell_type": "code",
      "metadata": {
        "id": "uyVSs2F54A0B"
      },
      "source": [
        "url=\"https://raw.githubusercontent.com/sipocz/Alarm/main/Result/EventNumber_SP_20210611.csv\""
      ],
      "execution_count": 2,
      "outputs": []
    },
    {
      "cell_type": "code",
      "metadata": {
        "colab": {
          "base_uri": "https://localhost:8080/"
        },
        "id": "5aPVlNkx4DsG",
        "outputId": "60618d9e-cf2c-47e8-881e-a5500c476b21"
      },
      "source": [
        "!wget $url"
      ],
      "execution_count": 3,
      "outputs": [
        {
          "output_type": "stream",
          "text": [
            "--2021-06-14 18:55:28--  https://raw.githubusercontent.com/sipocz/Alarm/main/Result/EventNumber_SP_20210611.csv\n",
            "Resolving raw.githubusercontent.com (raw.githubusercontent.com)... 185.199.108.133, 185.199.109.133, 185.199.110.133, ...\n",
            "Connecting to raw.githubusercontent.com (raw.githubusercontent.com)|185.199.108.133|:443... connected.\n",
            "HTTP request sent, awaiting response... 200 OK\n",
            "Length: 3685 (3.6K) [text/plain]\n",
            "Saving to: ‘EventNumber_SP_20210611.csv’\n",
            "\n",
            "\r          EventNumb   0%[                    ]       0  --.-KB/s               \rEventNumber_SP_2021 100%[===================>]   3.60K  --.-KB/s    in 0s      \n",
            "\n",
            "2021-06-14 18:55:28 (49.1 MB/s) - ‘EventNumber_SP_20210611.csv’ saved [3685/3685]\n",
            "\n"
          ],
          "name": "stdout"
        }
      ]
    },
    {
      "cell_type": "code",
      "metadata": {
        "id": "2LQ2q-Hv4QTC"
      },
      "source": [
        "fname=url.split(\"/\")[-1]"
      ],
      "execution_count": 4,
      "outputs": []
    },
    {
      "cell_type": "code",
      "metadata": {
        "id": "j12Zzl824Yfv"
      },
      "source": [
        ""
      ],
      "execution_count": 7,
      "outputs": []
    },
    {
      "cell_type": "code",
      "metadata": {
        "colab": {
          "base_uri": "https://localhost:8080/",
          "height": 202
        },
        "id": "qdxfE1aC4kXk",
        "outputId": "0f9fdfd0-0b6c-4fba-d849-b79a472cc45d"
      },
      "source": [
        "df=pd.read_csv(fname)\n",
        "df.head()"
      ],
      "execution_count": 23,
      "outputs": [
        {
          "output_type": "execute_result",
          "data": {
            "text/html": [
              "<div>\n",
              "<style scoped>\n",
              "    .dataframe tbody tr th:only-of-type {\n",
              "        vertical-align: middle;\n",
              "    }\n",
              "\n",
              "    .dataframe tbody tr th {\n",
              "        vertical-align: top;\n",
              "    }\n",
              "\n",
              "    .dataframe thead th {\n",
              "        text-align: right;\n",
              "    }\n",
              "</style>\n",
              "<table border=\"1\" class=\"dataframe\">\n",
              "  <thead>\n",
              "    <tr style=\"text-align: right;\">\n",
              "      <th></th>\n",
              "      <th>Unnamed: 0</th>\n",
              "      <th>1</th>\n",
              "      <th>2</th>\n",
              "      <th>3</th>\n",
              "      <th>4</th>\n",
              "      <th>5</th>\n",
              "      <th>6</th>\n",
              "      <th>7</th>\n",
              "      <th>8</th>\n",
              "      <th>9</th>\n",
              "      <th>10</th>\n",
              "      <th>11</th>\n",
              "      <th>12</th>\n",
              "      <th>13</th>\n",
              "      <th>14</th>\n",
              "      <th>15</th>\n",
              "      <th>16</th>\n",
              "      <th>17</th>\n",
              "      <th>18</th>\n",
              "      <th>19</th>\n",
              "      <th>20</th>\n",
              "      <th>21</th>\n",
              "      <th>22</th>\n",
              "      <th>23</th>\n",
              "      <th>24</th>\n",
              "      <th>25</th>\n",
              "      <th>26</th>\n",
              "      <th>27</th>\n",
              "      <th>28</th>\n",
              "      <th>29</th>\n",
              "      <th>30</th>\n",
              "    </tr>\n",
              "  </thead>\n",
              "  <tbody>\n",
              "    <tr>\n",
              "      <th>0</th>\n",
              "      <td>2021060106</td>\n",
              "      <td>2313</td>\n",
              "      <td>1562</td>\n",
              "      <td>1519</td>\n",
              "      <td>1514</td>\n",
              "      <td>1455</td>\n",
              "      <td>522</td>\n",
              "      <td>501</td>\n",
              "      <td>487</td>\n",
              "      <td>475</td>\n",
              "      <td>473</td>\n",
              "      <td>435</td>\n",
              "      <td>302</td>\n",
              "      <td>250</td>\n",
              "      <td>192</td>\n",
              "      <td>176</td>\n",
              "      <td>144</td>\n",
              "      <td>111</td>\n",
              "      <td>103</td>\n",
              "      <td>96</td>\n",
              "      <td>96</td>\n",
              "      <td>70</td>\n",
              "      <td>33</td>\n",
              "      <td>30</td>\n",
              "      <td>29</td>\n",
              "      <td>28</td>\n",
              "      <td>26</td>\n",
              "      <td>26</td>\n",
              "      <td>26</td>\n",
              "      <td>26</td>\n",
              "      <td>24</td>\n",
              "    </tr>\n",
              "    <tr>\n",
              "      <th>1</th>\n",
              "      <td>2021060114</td>\n",
              "      <td>1435</td>\n",
              "      <td>613</td>\n",
              "      <td>389</td>\n",
              "      <td>275</td>\n",
              "      <td>257</td>\n",
              "      <td>183</td>\n",
              "      <td>171</td>\n",
              "      <td>166</td>\n",
              "      <td>164</td>\n",
              "      <td>162</td>\n",
              "      <td>159</td>\n",
              "      <td>122</td>\n",
              "      <td>108</td>\n",
              "      <td>108</td>\n",
              "      <td>104</td>\n",
              "      <td>96</td>\n",
              "      <td>96</td>\n",
              "      <td>78</td>\n",
              "      <td>78</td>\n",
              "      <td>77</td>\n",
              "      <td>77</td>\n",
              "      <td>72</td>\n",
              "      <td>72</td>\n",
              "      <td>68</td>\n",
              "      <td>66</td>\n",
              "      <td>66</td>\n",
              "      <td>65</td>\n",
              "      <td>64</td>\n",
              "      <td>64</td>\n",
              "      <td>64</td>\n",
              "    </tr>\n",
              "    <tr>\n",
              "      <th>2</th>\n",
              "      <td>2021060122</td>\n",
              "      <td>1440</td>\n",
              "      <td>451</td>\n",
              "      <td>275</td>\n",
              "      <td>200</td>\n",
              "      <td>162</td>\n",
              "      <td>144</td>\n",
              "      <td>102</td>\n",
              "      <td>102</td>\n",
              "      <td>96</td>\n",
              "      <td>78</td>\n",
              "      <td>74</td>\n",
              "      <td>71</td>\n",
              "      <td>67</td>\n",
              "      <td>66</td>\n",
              "      <td>65</td>\n",
              "      <td>64</td>\n",
              "      <td>54</td>\n",
              "      <td>50</td>\n",
              "      <td>48</td>\n",
              "      <td>48</td>\n",
              "      <td>48</td>\n",
              "      <td>48</td>\n",
              "      <td>48</td>\n",
              "      <td>48</td>\n",
              "      <td>48</td>\n",
              "      <td>48</td>\n",
              "      <td>46</td>\n",
              "      <td>45</td>\n",
              "      <td>43</td>\n",
              "      <td>43</td>\n",
              "    </tr>\n",
              "    <tr>\n",
              "      <th>3</th>\n",
              "      <td>2021060206</td>\n",
              "      <td>1440</td>\n",
              "      <td>1001</td>\n",
              "      <td>771</td>\n",
              "      <td>326</td>\n",
              "      <td>271</td>\n",
              "      <td>251</td>\n",
              "      <td>188</td>\n",
              "      <td>180</td>\n",
              "      <td>156</td>\n",
              "      <td>144</td>\n",
              "      <td>116</td>\n",
              "      <td>114</td>\n",
              "      <td>108</td>\n",
              "      <td>108</td>\n",
              "      <td>108</td>\n",
              "      <td>108</td>\n",
              "      <td>80</td>\n",
              "      <td>76</td>\n",
              "      <td>76</td>\n",
              "      <td>73</td>\n",
              "      <td>73</td>\n",
              "      <td>70</td>\n",
              "      <td>70</td>\n",
              "      <td>66</td>\n",
              "      <td>66</td>\n",
              "      <td>64</td>\n",
              "      <td>63</td>\n",
              "      <td>60</td>\n",
              "      <td>60</td>\n",
              "      <td>60</td>\n",
              "    </tr>\n",
              "    <tr>\n",
              "      <th>4</th>\n",
              "      <td>2021060214</td>\n",
              "      <td>1437</td>\n",
              "      <td>810</td>\n",
              "      <td>449</td>\n",
              "      <td>318</td>\n",
              "      <td>292</td>\n",
              "      <td>245</td>\n",
              "      <td>237</td>\n",
              "      <td>237</td>\n",
              "      <td>179</td>\n",
              "      <td>165</td>\n",
              "      <td>144</td>\n",
              "      <td>137</td>\n",
              "      <td>126</td>\n",
              "      <td>123</td>\n",
              "      <td>121</td>\n",
              "      <td>118</td>\n",
              "      <td>114</td>\n",
              "      <td>114</td>\n",
              "      <td>110</td>\n",
              "      <td>106</td>\n",
              "      <td>92</td>\n",
              "      <td>88</td>\n",
              "      <td>88</td>\n",
              "      <td>86</td>\n",
              "      <td>82</td>\n",
              "      <td>80</td>\n",
              "      <td>80</td>\n",
              "      <td>78</td>\n",
              "      <td>72</td>\n",
              "      <td>72</td>\n",
              "    </tr>\n",
              "  </tbody>\n",
              "</table>\n",
              "</div>"
            ],
            "text/plain": [
              "   Unnamed: 0     1     2     3     4     5    6  ...  24  25  26  27  28  29  30\n",
              "0  2021060106  2313  1562  1519  1514  1455  522  ...  29  28  26  26  26  26  24\n",
              "1  2021060114  1435   613   389   275   257  183  ...  68  66  66  65  64  64  64\n",
              "2  2021060122  1440   451   275   200   162  144  ...  48  48  48  46  45  43  43\n",
              "3  2021060206  1440  1001   771   326   271  251  ...  66  66  64  63  60  60  60\n",
              "4  2021060214  1437   810   449   318   292  245  ...  86  82  80  80  78  72  72\n",
              "\n",
              "[5 rows x 31 columns]"
            ]
          },
          "metadata": {
            "tags": []
          },
          "execution_count": 23
        }
      ]
    },
    {
      "cell_type": "code",
      "metadata": {
        "colab": {
          "base_uri": "https://localhost:8080/"
        },
        "id": "rWW-xTBl5a2b",
        "outputId": "d9fd9b44-581a-4945-aa7c-2f6ce8e86bc7"
      },
      "source": [
        "df.columns"
      ],
      "execution_count": 22,
      "outputs": [
        {
          "output_type": "execute_result",
          "data": {
            "text/plain": [
              "Index(['Unnamed: 0', '1', '2', '3', '4', '5', '6', '7', '8', '9', '10', '11',\n",
              "       '12', '13', '14', '15', '16', '17', '18', '19', '20', '21', '22', '23',\n",
              "       '24', '25', '26', '27', '28', '29', '30'],\n",
              "      dtype='object')"
            ]
          },
          "metadata": {
            "tags": []
          },
          "execution_count": 22
        }
      ]
    },
    {
      "cell_type": "code",
      "metadata": {
        "colab": {
          "base_uri": "https://localhost:8080/",
          "height": 583
        },
        "id": "fg-TKgcl48Cq",
        "outputId": "5790cae8-8d84-414e-9792-afa3aacf341d"
      },
      "source": [
        "df[\"0\"].plot()"
      ],
      "execution_count": 21,
      "outputs": [
        {
          "output_type": "error",
          "ename": "KeyError",
          "evalue": "ignored",
          "traceback": [
            "\u001b[0;31m---------------------------------------------------------------------------\u001b[0m",
            "\u001b[0;31mKeyError\u001b[0m                                  Traceback (most recent call last)",
            "\u001b[0;32m/usr/local/lib/python3.7/dist-packages/pandas/core/indexes/base.py\u001b[0m in \u001b[0;36mget_loc\u001b[0;34m(self, key, method, tolerance)\u001b[0m\n\u001b[1;32m   2897\u001b[0m             \u001b[0;32mtry\u001b[0m\u001b[0;34m:\u001b[0m\u001b[0;34m\u001b[0m\u001b[0;34m\u001b[0m\u001b[0m\n\u001b[0;32m-> 2898\u001b[0;31m                 \u001b[0;32mreturn\u001b[0m \u001b[0mself\u001b[0m\u001b[0;34m.\u001b[0m\u001b[0m_engine\u001b[0m\u001b[0;34m.\u001b[0m\u001b[0mget_loc\u001b[0m\u001b[0;34m(\u001b[0m\u001b[0mcasted_key\u001b[0m\u001b[0;34m)\u001b[0m\u001b[0;34m\u001b[0m\u001b[0;34m\u001b[0m\u001b[0m\n\u001b[0m\u001b[1;32m   2899\u001b[0m             \u001b[0;32mexcept\u001b[0m \u001b[0mKeyError\u001b[0m \u001b[0;32mas\u001b[0m \u001b[0merr\u001b[0m\u001b[0;34m:\u001b[0m\u001b[0;34m\u001b[0m\u001b[0;34m\u001b[0m\u001b[0m\n",
            "\u001b[0;32mpandas/_libs/index.pyx\u001b[0m in \u001b[0;36mpandas._libs.index.IndexEngine.get_loc\u001b[0;34m()\u001b[0m\n",
            "\u001b[0;32mpandas/_libs/index.pyx\u001b[0m in \u001b[0;36mpandas._libs.index.IndexEngine.get_loc\u001b[0;34m()\u001b[0m\n",
            "\u001b[0;32mpandas/_libs/hashtable_class_helper.pxi\u001b[0m in \u001b[0;36mpandas._libs.hashtable.PyObjectHashTable.get_item\u001b[0;34m()\u001b[0m\n",
            "\u001b[0;32mpandas/_libs/hashtable_class_helper.pxi\u001b[0m in \u001b[0;36mpandas._libs.hashtable.PyObjectHashTable.get_item\u001b[0;34m()\u001b[0m\n",
            "\u001b[0;31mKeyError\u001b[0m: '0'",
            "\nThe above exception was the direct cause of the following exception:\n",
            "\u001b[0;31mKeyError\u001b[0m                                  Traceback (most recent call last)",
            "\u001b[0;32m<ipython-input-21-3a784556df7d>\u001b[0m in \u001b[0;36m<module>\u001b[0;34m()\u001b[0m\n\u001b[0;32m----> 1\u001b[0;31m \u001b[0mdf\u001b[0m\u001b[0;34m[\u001b[0m\u001b[0;34m\"0\"\u001b[0m\u001b[0;34m]\u001b[0m\u001b[0;34m.\u001b[0m\u001b[0mplot\u001b[0m\u001b[0;34m(\u001b[0m\u001b[0;34m)\u001b[0m\u001b[0;34m\u001b[0m\u001b[0;34m\u001b[0m\u001b[0m\n\u001b[0m",
            "\u001b[0;32m/usr/local/lib/python3.7/dist-packages/pandas/core/frame.py\u001b[0m in \u001b[0;36m__getitem__\u001b[0;34m(self, key)\u001b[0m\n\u001b[1;32m   2904\u001b[0m             \u001b[0;32mif\u001b[0m \u001b[0mself\u001b[0m\u001b[0;34m.\u001b[0m\u001b[0mcolumns\u001b[0m\u001b[0;34m.\u001b[0m\u001b[0mnlevels\u001b[0m \u001b[0;34m>\u001b[0m \u001b[0;36m1\u001b[0m\u001b[0;34m:\u001b[0m\u001b[0;34m\u001b[0m\u001b[0;34m\u001b[0m\u001b[0m\n\u001b[1;32m   2905\u001b[0m                 \u001b[0;32mreturn\u001b[0m \u001b[0mself\u001b[0m\u001b[0;34m.\u001b[0m\u001b[0m_getitem_multilevel\u001b[0m\u001b[0;34m(\u001b[0m\u001b[0mkey\u001b[0m\u001b[0;34m)\u001b[0m\u001b[0;34m\u001b[0m\u001b[0;34m\u001b[0m\u001b[0m\n\u001b[0;32m-> 2906\u001b[0;31m             \u001b[0mindexer\u001b[0m \u001b[0;34m=\u001b[0m \u001b[0mself\u001b[0m\u001b[0;34m.\u001b[0m\u001b[0mcolumns\u001b[0m\u001b[0;34m.\u001b[0m\u001b[0mget_loc\u001b[0m\u001b[0;34m(\u001b[0m\u001b[0mkey\u001b[0m\u001b[0;34m)\u001b[0m\u001b[0;34m\u001b[0m\u001b[0;34m\u001b[0m\u001b[0m\n\u001b[0m\u001b[1;32m   2907\u001b[0m             \u001b[0;32mif\u001b[0m \u001b[0mis_integer\u001b[0m\u001b[0;34m(\u001b[0m\u001b[0mindexer\u001b[0m\u001b[0;34m)\u001b[0m\u001b[0;34m:\u001b[0m\u001b[0;34m\u001b[0m\u001b[0;34m\u001b[0m\u001b[0m\n\u001b[1;32m   2908\u001b[0m                 \u001b[0mindexer\u001b[0m \u001b[0;34m=\u001b[0m \u001b[0;34m[\u001b[0m\u001b[0mindexer\u001b[0m\u001b[0;34m]\u001b[0m\u001b[0;34m\u001b[0m\u001b[0;34m\u001b[0m\u001b[0m\n",
            "\u001b[0;32m/usr/local/lib/python3.7/dist-packages/pandas/core/indexes/base.py\u001b[0m in \u001b[0;36mget_loc\u001b[0;34m(self, key, method, tolerance)\u001b[0m\n\u001b[1;32m   2898\u001b[0m                 \u001b[0;32mreturn\u001b[0m \u001b[0mself\u001b[0m\u001b[0;34m.\u001b[0m\u001b[0m_engine\u001b[0m\u001b[0;34m.\u001b[0m\u001b[0mget_loc\u001b[0m\u001b[0;34m(\u001b[0m\u001b[0mcasted_key\u001b[0m\u001b[0;34m)\u001b[0m\u001b[0;34m\u001b[0m\u001b[0;34m\u001b[0m\u001b[0m\n\u001b[1;32m   2899\u001b[0m             \u001b[0;32mexcept\u001b[0m \u001b[0mKeyError\u001b[0m \u001b[0;32mas\u001b[0m \u001b[0merr\u001b[0m\u001b[0;34m:\u001b[0m\u001b[0;34m\u001b[0m\u001b[0;34m\u001b[0m\u001b[0m\n\u001b[0;32m-> 2900\u001b[0;31m                 \u001b[0;32mraise\u001b[0m \u001b[0mKeyError\u001b[0m\u001b[0;34m(\u001b[0m\u001b[0mkey\u001b[0m\u001b[0;34m)\u001b[0m \u001b[0;32mfrom\u001b[0m \u001b[0merr\u001b[0m\u001b[0;34m\u001b[0m\u001b[0;34m\u001b[0m\u001b[0m\n\u001b[0m\u001b[1;32m   2901\u001b[0m \u001b[0;34m\u001b[0m\u001b[0m\n\u001b[1;32m   2902\u001b[0m         \u001b[0;32mif\u001b[0m \u001b[0mtolerance\u001b[0m \u001b[0;32mis\u001b[0m \u001b[0;32mnot\u001b[0m \u001b[0;32mNone\u001b[0m\u001b[0;34m:\u001b[0m\u001b[0;34m\u001b[0m\u001b[0;34m\u001b[0m\u001b[0m\n",
            "\u001b[0;31mKeyError\u001b[0m: '0'"
          ]
        }
      ]
    }
  ]
}