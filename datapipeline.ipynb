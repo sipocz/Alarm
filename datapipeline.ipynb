{
  "nbformat": 4,
  "nbformat_minor": 0,
  "metadata": {
    "colab": {
      "name": "datapipeline.ipynb",
      "provenance": [],
      "authorship_tag": "ABX9TyNKMQVeNKolve170qBFnD1j",
      "include_colab_link": true
    },
    "kernelspec": {
      "name": "python3",
      "display_name": "Python 3"
    },
    "language_info": {
      "name": "python"
    }
  },
  "cells": [
    {
      "cell_type": "markdown",
      "metadata": {
        "id": "view-in-github",
        "colab_type": "text"
      },
      "source": [
        "<a href=\"https://colab.research.google.com/github/sipocz/Alarm/blob/main/datapipeline.ipynb\" target=\"_parent\"><img src=\"https://colab.research.google.com/assets/colab-badge.svg\" alt=\"Open In Colab\"/></a>"
      ]
    },
    {
      "cell_type": "code",
      "metadata": {
        "id": "FbWyHMJz4d7D"
      },
      "source": [
        "import pandas as pd"
      ],
      "execution_count": 3,
      "outputs": []
    },
    {
      "cell_type": "code",
      "metadata": {
        "id": "uyVSs2F54A0B"
      },
      "source": [
        "url=\"https://raw.githubusercontent.com/sipocz/Alarm/main/Result/EventNumber_SP_2018_08_2021_05.csv\""
      ],
      "execution_count": 6,
      "outputs": []
    },
    {
      "cell_type": "code",
      "metadata": {
        "colab": {
          "base_uri": "https://localhost:8080/"
        },
        "id": "5aPVlNkx4DsG",
        "outputId": "16cc0fb8-e5ca-4d2a-f88a-20bdf1b10df9"
      },
      "source": [
        "!wget $url"
      ],
      "execution_count": 7,
      "outputs": [
        {
          "output_type": "stream",
          "text": [
            "--2021-06-18 11:05:42--  https://raw.githubusercontent.com/sipocz/Alarm/main/Result/EventNumber_SP_2018_08_2021_05.csv\n",
            "Resolving raw.githubusercontent.com (raw.githubusercontent.com)... 185.199.108.133, 185.199.111.133, 185.199.109.133, ...\n",
            "Connecting to raw.githubusercontent.com (raw.githubusercontent.com)|185.199.108.133|:443... connected.\n",
            "HTTP request sent, awaiting response... 200 OK\n",
            "Length: 321605 (314K) [text/plain]\n",
            "Saving to: ‘EventNumber_SP_2018_08_2021_05.csv’\n",
            "\n",
            "\r          EventNumb   0%[                    ]       0  --.-KB/s               \rEventNumber_SP_2018 100%[===================>] 314.07K  --.-KB/s    in 0.03s   \n",
            "\n",
            "2021-06-18 11:05:42 (9.64 MB/s) - ‘EventNumber_SP_2018_08_2021_05.csv’ saved [321605/321605]\n",
            "\n"
          ],
          "name": "stdout"
        }
      ]
    },
    {
      "cell_type": "code",
      "metadata": {
        "id": "2LQ2q-Hv4QTC"
      },
      "source": [
        "fname=url.split(\"/\")[-1]"
      ],
      "execution_count": 8,
      "outputs": []
    },
    {
      "cell_type": "code",
      "metadata": {
        "id": "j12Zzl824Yfv",
        "colab": {
          "base_uri": "https://localhost:8080/",
          "height": 35
        },
        "outputId": "55eedfe7-27b5-45d2-d865-f0df8831a0eb"
      },
      "source": [
        "fname"
      ],
      "execution_count": 9,
      "outputs": [
        {
          "output_type": "execute_result",
          "data": {
            "application/vnd.google.colaboratory.intrinsic+json": {
              "type": "string"
            },
            "text/plain": [
              "'EventNumber_SP_2018_08_2021_05.csv'"
            ]
          },
          "metadata": {
            "tags": []
          },
          "execution_count": 9
        }
      ]
    },
    {
      "cell_type": "code",
      "metadata": {
        "colab": {
          "base_uri": "https://localhost:8080/",
          "height": 204
        },
        "id": "qdxfE1aC4kXk",
        "outputId": "e4b5f37b-7b5c-475b-b826-96539025ed1c"
      },
      "source": [
        "df=pd.read_csv(fname)\n",
        "df.columns=['date', 'a1', 'a2', 'a3', 'a4', 'a5', 'a6', 'a7', 'a8', 'a9', 'a10', 'a11','a12', 'a13', 'a14', 'a15', 'a16', 'a17', 'a18', 'a19', 'a20', 'a21', 'a22', 'a23','a24', 'a25', 'a26', 'a27', 'a28', 'a29', 'a30']\n",
        "df.head()"
      ],
      "execution_count": 10,
      "outputs": [
        {
          "output_type": "execute_result",
          "data": {
            "text/html": [
              "<div>\n",
              "<style scoped>\n",
              "    .dataframe tbody tr th:only-of-type {\n",
              "        vertical-align: middle;\n",
              "    }\n",
              "\n",
              "    .dataframe tbody tr th {\n",
              "        vertical-align: top;\n",
              "    }\n",
              "\n",
              "    .dataframe thead th {\n",
              "        text-align: right;\n",
              "    }\n",
              "</style>\n",
              "<table border=\"1\" class=\"dataframe\">\n",
              "  <thead>\n",
              "    <tr style=\"text-align: right;\">\n",
              "      <th></th>\n",
              "      <th>date</th>\n",
              "      <th>a1</th>\n",
              "      <th>a2</th>\n",
              "      <th>a3</th>\n",
              "      <th>a4</th>\n",
              "      <th>a5</th>\n",
              "      <th>a6</th>\n",
              "      <th>a7</th>\n",
              "      <th>a8</th>\n",
              "      <th>a9</th>\n",
              "      <th>a10</th>\n",
              "      <th>a11</th>\n",
              "      <th>a12</th>\n",
              "      <th>a13</th>\n",
              "      <th>a14</th>\n",
              "      <th>a15</th>\n",
              "      <th>a16</th>\n",
              "      <th>a17</th>\n",
              "      <th>a18</th>\n",
              "      <th>a19</th>\n",
              "      <th>a20</th>\n",
              "      <th>a21</th>\n",
              "      <th>a22</th>\n",
              "      <th>a23</th>\n",
              "      <th>a24</th>\n",
              "      <th>a25</th>\n",
              "      <th>a26</th>\n",
              "      <th>a27</th>\n",
              "      <th>a28</th>\n",
              "      <th>a29</th>\n",
              "      <th>a30</th>\n",
              "    </tr>\n",
              "  </thead>\n",
              "  <tbody>\n",
              "    <tr>\n",
              "      <th>0</th>\n",
              "      <td>2018091214</td>\n",
              "      <td>6278</td>\n",
              "      <td>2962</td>\n",
              "      <td>1481</td>\n",
              "      <td>1392</td>\n",
              "      <td>972</td>\n",
              "      <td>882</td>\n",
              "      <td>774</td>\n",
              "      <td>728</td>\n",
              "      <td>711</td>\n",
              "      <td>604</td>\n",
              "      <td>555</td>\n",
              "      <td>532</td>\n",
              "      <td>517</td>\n",
              "      <td>452</td>\n",
              "      <td>372</td>\n",
              "      <td>354</td>\n",
              "      <td>340</td>\n",
              "      <td>234</td>\n",
              "      <td>173</td>\n",
              "      <td>166</td>\n",
              "      <td>121</td>\n",
              "      <td>112</td>\n",
              "      <td>103</td>\n",
              "      <td>102</td>\n",
              "      <td>91</td>\n",
              "      <td>79</td>\n",
              "      <td>62</td>\n",
              "      <td>61</td>\n",
              "      <td>54</td>\n",
              "      <td>50</td>\n",
              "    </tr>\n",
              "    <tr>\n",
              "      <th>1</th>\n",
              "      <td>2018091222</td>\n",
              "      <td>6382</td>\n",
              "      <td>3631</td>\n",
              "      <td>1816</td>\n",
              "      <td>1425</td>\n",
              "      <td>618</td>\n",
              "      <td>588</td>\n",
              "      <td>575</td>\n",
              "      <td>558</td>\n",
              "      <td>378</td>\n",
              "      <td>286</td>\n",
              "      <td>274</td>\n",
              "      <td>269</td>\n",
              "      <td>260</td>\n",
              "      <td>244</td>\n",
              "      <td>234</td>\n",
              "      <td>234</td>\n",
              "      <td>198</td>\n",
              "      <td>192</td>\n",
              "      <td>178</td>\n",
              "      <td>154</td>\n",
              "      <td>151</td>\n",
              "      <td>138</td>\n",
              "      <td>132</td>\n",
              "      <td>131</td>\n",
              "      <td>130</td>\n",
              "      <td>126</td>\n",
              "      <td>126</td>\n",
              "      <td>114</td>\n",
              "      <td>90</td>\n",
              "      <td>85</td>\n",
              "    </tr>\n",
              "    <tr>\n",
              "      <th>2</th>\n",
              "      <td>2018091306</td>\n",
              "      <td>7267</td>\n",
              "      <td>3534</td>\n",
              "      <td>1768</td>\n",
              "      <td>1407</td>\n",
              "      <td>687</td>\n",
              "      <td>666</td>\n",
              "      <td>628</td>\n",
              "      <td>430</td>\n",
              "      <td>396</td>\n",
              "      <td>342</td>\n",
              "      <td>308</td>\n",
              "      <td>220</td>\n",
              "      <td>134</td>\n",
              "      <td>120</td>\n",
              "      <td>120</td>\n",
              "      <td>104</td>\n",
              "      <td>97</td>\n",
              "      <td>96</td>\n",
              "      <td>96</td>\n",
              "      <td>82</td>\n",
              "      <td>78</td>\n",
              "      <td>75</td>\n",
              "      <td>68</td>\n",
              "      <td>66</td>\n",
              "      <td>66</td>\n",
              "      <td>66</td>\n",
              "      <td>60</td>\n",
              "      <td>58</td>\n",
              "      <td>58</td>\n",
              "      <td>56</td>\n",
              "    </tr>\n",
              "    <tr>\n",
              "      <th>3</th>\n",
              "      <td>2018091314</td>\n",
              "      <td>6992</td>\n",
              "      <td>3526</td>\n",
              "      <td>1763</td>\n",
              "      <td>780</td>\n",
              "      <td>609</td>\n",
              "      <td>604</td>\n",
              "      <td>482</td>\n",
              "      <td>374</td>\n",
              "      <td>325</td>\n",
              "      <td>321</td>\n",
              "      <td>291</td>\n",
              "      <td>204</td>\n",
              "      <td>134</td>\n",
              "      <td>117</td>\n",
              "      <td>116</td>\n",
              "      <td>116</td>\n",
              "      <td>114</td>\n",
              "      <td>114</td>\n",
              "      <td>107</td>\n",
              "      <td>98</td>\n",
              "      <td>96</td>\n",
              "      <td>96</td>\n",
              "      <td>92</td>\n",
              "      <td>90</td>\n",
              "      <td>89</td>\n",
              "      <td>78</td>\n",
              "      <td>74</td>\n",
              "      <td>72</td>\n",
              "      <td>70</td>\n",
              "      <td>69</td>\n",
              "    </tr>\n",
              "    <tr>\n",
              "      <th>4</th>\n",
              "      <td>2018091322</td>\n",
              "      <td>6769</td>\n",
              "      <td>4806</td>\n",
              "      <td>2403</td>\n",
              "      <td>672</td>\n",
              "      <td>575</td>\n",
              "      <td>361</td>\n",
              "      <td>351</td>\n",
              "      <td>238</td>\n",
              "      <td>230</td>\n",
              "      <td>198</td>\n",
              "      <td>173</td>\n",
              "      <td>162</td>\n",
              "      <td>156</td>\n",
              "      <td>110</td>\n",
              "      <td>98</td>\n",
              "      <td>96</td>\n",
              "      <td>92</td>\n",
              "      <td>78</td>\n",
              "      <td>72</td>\n",
              "      <td>71</td>\n",
              "      <td>70</td>\n",
              "      <td>68</td>\n",
              "      <td>65</td>\n",
              "      <td>60</td>\n",
              "      <td>60</td>\n",
              "      <td>56</td>\n",
              "      <td>54</td>\n",
              "      <td>53</td>\n",
              "      <td>50</td>\n",
              "      <td>50</td>\n",
              "    </tr>\n",
              "  </tbody>\n",
              "</table>\n",
              "</div>"
            ],
            "text/plain": [
              "         date    a1    a2    a3    a4   a5  ...  a25  a26  a27  a28  a29  a30\n",
              "0  2018091214  6278  2962  1481  1392  972  ...   91   79   62   61   54   50\n",
              "1  2018091222  6382  3631  1816  1425  618  ...  130  126  126  114   90   85\n",
              "2  2018091306  7267  3534  1768  1407  687  ...   66   66   60   58   58   56\n",
              "3  2018091314  6992  3526  1763   780  609  ...   89   78   74   72   70   69\n",
              "4  2018091322  6769  4806  2403   672  575  ...   60   56   54   53   50   50\n",
              "\n",
              "[5 rows x 31 columns]"
            ]
          },
          "metadata": {
            "tags": []
          },
          "execution_count": 10
        }
      ]
    },
    {
      "cell_type": "code",
      "metadata": {
        "id": "rWW-xTBl5a2b"
      },
      "source": [
        "df_2=df.loc[:,\"a1\":]"
      ],
      "execution_count": 11,
      "outputs": []
    },
    {
      "cell_type": "code",
      "metadata": {
        "colab": {
          "base_uri": "https://localhost:8080/",
          "height": 265
        },
        "id": "fg-TKgcl48Cq",
        "outputId": "f2d713f1-d9cc-4e62-c41d-f3b6690e9ccc"
      },
      "source": [
        "for i in range(len(df_2)):\n",
        "    df_2.loc[i,:].plot()"
      ],
      "execution_count": 17,
      "outputs": [
        {
          "output_type": "display_data",
          "data": {
            "image/png": "[encoded data removed]",
            "text/plain": [
              "<Figure size 432x288 with 1 Axes>"
            ]
          },
          "metadata": {
            "tags": [],
            "needs_background": "light"
          }
        }
      ]
    },
    {
      "cell_type": "code",
      "metadata": {
        "colab": {
          "base_uri": "https://localhost:8080/"
        },
        "id": "Bo05rfshZ7jl",
        "outputId": "b4c4c86e-ecdc-493f-c453-10c3561fd70e"
      },
      "source": [
        "import numpy as np\n",
        "from sklearn.decomposition import PCA\n",
        "X = df_2\n",
        "pca = PCA(n_components=2)\n",
        "df_pca=pca.fit_transform(X)\n",
        "\n",
        "print(pca.explained_variance_ratio_)\n",
        "\n",
        "print(pca.singular_values_)"
      ],
      "execution_count": 13,
      "outputs": [
        {
          "output_type": "stream",
          "text": [
            "[0.86575693 0.10345249]\n",
            "[145934.76329754  50446.52399499]\n"
          ],
          "name": "stdout"
        }
      ]
    },
    {
      "cell_type": "code",
      "metadata": {
        "colab": {
          "base_uri": "https://localhost:8080/"
        },
        "id": "gfoU8_BDcTZY",
        "outputId": "1bc65621-4331-49c2-8b73-c68b78171eac"
      },
      "source": [
        "df_pca"
      ],
      "execution_count": 14,
      "outputs": [
        {
          "output_type": "execute_result",
          "data": {
            "text/plain": [
              "array([[2738.11178856, 1652.91627397],\n",
              "       [3004.42342035, 2108.89097828],\n",
              "       [3820.98508749, 1753.70838698],\n",
              "       ...,\n",
              "       [ 347.35274662, 1294.83416508],\n",
              "       [ 705.51725154, 1494.13083513],\n",
              "       [3064.54714248,  837.2406597 ]])"
            ]
          },
          "metadata": {
            "tags": []
          },
          "execution_count": 14
        }
      ]
    },
    {
      "cell_type": "code",
      "metadata": {
        "id": "k2umVvImcsfr"
      },
      "source": [
        "x_data=df_pca[:,0]\n",
        "y_data=df_pca[:,1]\n"
      ],
      "execution_count": 15,
      "outputs": []
    },
    {
      "cell_type": "code",
      "metadata": {
        "colab": {
          "base_uri": "https://localhost:8080/",
          "height": 265
        },
        "id": "Z3Pfg4epjOIy",
        "outputId": "8192cd86-817b-423a-d026-306595f40283"
      },
      "source": [
        "import matplotlib.pyplot as plt\n",
        "x = x_data\n",
        "y = y_data\n",
        "fig = plt.figure()\n",
        "ax = fig.add_subplot(111)\n",
        "ax.scatter(x, y, color='blue')\n",
        "plt.show()"
      ],
      "execution_count": 16,
      "outputs": [
        {
          "output_type": "display_data",
          "data": {
            "image/png": "[encoded data removed]",
            "text/plain": [
              "<Figure size 432x288 with 1 Axes>"
            ]
          },
          "metadata": {
            "tags": [],
            "needs_background": "light"
          }
        }
      ]
    },
    {
      "cell_type": "code",
      "metadata": {
        "id": "PmwbWlPFSCDG"
      },
      "source": [
        ""
      ],
      "execution_count": null,
      "outputs": []
    }
  ]
}